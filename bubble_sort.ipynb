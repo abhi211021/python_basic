{
 "cells": [
  {
   "cell_type": "code",
   "execution_count": 9,
   "metadata": {},
   "outputs": [],
   "source": [
    "def bubble(list_a):\n",
    "    index = len(list_a)-1\n",
    "    sorts= False\n",
    "    \n",
    "    while not sorts:\n",
    "        sorts= True\n",
    "        for i in range(0,index):\n",
    "            if list_a[i]>list_a[i+1]:\n",
    "                sorts= False\n",
    "                list_a[i], list_a[i+1]=list_a[i+1], list_a[i]\n",
    "    return list_a"
   ]
  },
  {
   "cell_type": "code",
   "execution_count": 10,
   "metadata": {},
   "outputs": [
    {
     "name": "stdout",
     "output_type": "stream",
     "text": [
      "[1, 3, 23, 34, 75, 368, 424, 664]\n"
     ]
    }
   ],
   "source": [
    "print(bubble([3,34,368,23,424,664,75,1]))"
   ]
  },
  {
   "cell_type": "code",
   "execution_count": null,
   "metadata": {},
   "outputs": [],
   "source": []
  }
 ],
 "metadata": {
  "kernelspec": {
   "display_name": "Python 3",
   "language": "python",
   "name": "python3"
  },
  "language_info": {
   "codemirror_mode": {
    "name": "ipython",
    "version": 3
   },
   "file_extension": ".py",
   "mimetype": "text/x-python",
   "name": "python",
   "nbconvert_exporter": "python",
   "pygments_lexer": "ipython3",
   "version": "3.8.3"
  }
 },
 "nbformat": 4,
 "nbformat_minor": 4
}
