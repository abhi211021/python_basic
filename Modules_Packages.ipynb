{
 "cells": [
  {
   "cell_type": "markdown",
   "metadata": {},
   "source": [
    "Modules in Python are simply Python files with a .py extension. The name of the module will be the name of the file. \n",
    "A Python module can have a set of functions, classes or variables defined and implemented."
   ]
  },
  {
   "cell_type": "markdown",
   "metadata": {},
   "source": [
    "collection of fuctions->module\n",
    "collection of module -> package\n",
    "collection of package-> library"
   ]
  },
  {
   "cell_type": "markdown",
   "metadata": {},
   "source": [
    "# import module as namespace\n",
    "import helpers\n",
    "helpers.display('Not a warning')\n",
    "\n",
    "# import all into current namespace\n",
    "from helpers import *\n",
    "display('Not a warning')\n",
    "\n",
    "# import specific items into current namespace\n",
    "from helpers import display\n",
    "display('Not a warning')"
   ]
  },
  {
   "cell_type": "code",
   "execution_count": null,
   "metadata": {},
   "outputs": [],
   "source": []
  }
 ],
 "metadata": {
  "kernelspec": {
   "display_name": "Python 3",
   "language": "python",
   "name": "python3"
  },
  "language_info": {
   "codemirror_mode": {
    "name": "ipython",
    "version": 3
   },
   "file_extension": ".py",
   "mimetype": "text/x-python",
   "name": "python",
   "nbconvert_exporter": "python",
   "pygments_lexer": "ipython3",
   "version": "3.8.3"
  }
 },
 "nbformat": 4,
 "nbformat_minor": 4
}
