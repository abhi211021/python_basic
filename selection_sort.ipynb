{
 "cells": [
  {
   "cell_type": "code",
   "execution_count": 2,
   "metadata": {},
   "outputs": [
    {
     "name": "stdout",
     "output_type": "stream",
     "text": [
      "[0, 4, 5, 5, 6, 6, 6, 6, 7, 7, 7, 7, 7, 8, 8, 9, 9]\n"
     ]
    }
   ],
   "source": [
    "def selection_sort(list_a):\n",
    "    indexing_length = range(0, len(list_a)-1)\n",
    "\n",
    "    for i in indexing_length:\n",
    "        min_value = i\n",
    "\n",
    "        for j in range(i+1, len(list_a)):\n",
    "            if list_a[j] < list_a[min_value]:\n",
    "                min_value = j\n",
    "\n",
    "            if min_value != i:\n",
    "                list_a[min_value], list_a[i] = list_a[i], list_a[min_value]\n",
    "\n",
    "    return list_a\n",
    "\n",
    "print(selection_sort([6,7,8,7,6,5,4,5,6,7,6,7,8,9,7,9,0]))"
   ]
  },
  {
   "cell_type": "code",
   "execution_count": null,
   "metadata": {},
   "outputs": [],
   "source": []
  }
 ],
 "metadata": {
  "kernelspec": {
   "display_name": "Python 3",
   "language": "python",
   "name": "python3"
  },
  "language_info": {
   "codemirror_mode": {
    "name": "ipython",
    "version": 3
   },
   "file_extension": ".py",
   "mimetype": "text/x-python",
   "name": "python",
   "nbconvert_exporter": "python",
   "pygments_lexer": "ipython3",
   "version": "3.8.3"
  }
 },
 "nbformat": 4,
 "nbformat_minor": 4
}
