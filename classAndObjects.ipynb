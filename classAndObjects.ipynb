{
 "cells": [
  {
   "cell_type": "markdown",
   "metadata": {},
   "source": [
    "# Basic of class, object and class variable and fuction within class"
   ]
  },
  {
   "cell_type": "code",
   "execution_count": 5,
   "metadata": {},
   "outputs": [
    {
     "name": "stdout",
     "output_type": "stream",
     "text": [
      "This is a message inside the class.\n"
     ]
    },
    {
     "data": {
      "text/plain": [
       "'blah'"
      ]
     },
     "execution_count": 5,
     "metadata": {},
     "output_type": "execute_result"
    }
   ],
   "source": [
    "class MyClass:\n",
    "    variable = \"blah\"\n",
    "\n",
    "    def function(self):\n",
    "        print(\"This is a message inside the class.\")\n",
    "\n",
    "#creating object of class MyClass\n",
    "m1=MyClass()\n",
    "#calling the function\n",
    "m1.function()\n",
    "#calling the variable\n",
    "print(MyClass.variable)"
   ]
  },
  {
   "cell_type": "markdown",
   "metadata": {},
   "source": [
    "# Each object contains independent copies of the variables defined in the class."
   ]
  },
  {
   "cell_type": "code",
   "execution_count": 13,
   "metadata": {},
   "outputs": [
    {
     "name": "stdout",
     "output_type": "stream",
     "text": [
      "Without change firstvariable for objX : newstart\n",
      "Without change firstvariable for objy : newstart\n",
      "With change firstvariable for objX : newstart\n",
      "With change firstvariable for objy : Changed\n"
     ]
    }
   ],
   "source": [
    "class MyFirstClass:\n",
    "    \n",
    "    firstVariable= \"newstart\"\n",
    "    \n",
    "    def firstFunction(self):\n",
    "        print(\"The fuction inside the class is called using object of the fuction.\")\n",
    "        \n",
    "objx=MyFirstClass()\n",
    "print(f\"Without change firstvariable for objX : {objx.firstVariable}\")\n",
    "\n",
    "objy= MyFirstClass()\n",
    "print(f\"Without change firstvariable for objy : {objy.firstVariable}\")\n",
    "\n",
    "objy.firstVariable = \"Changed\"\n",
    "\n",
    "print(f\"With change firstvariable for objX : {objx.firstVariable}\")\n",
    "print(f\"With change firstvariable for objy : {objy.firstVariable}\")"
   ]
  },
  {
   "cell_type": "markdown",
   "metadata": {},
   "source": [
    "# Excersice"
   ]
  },
  {
   "cell_type": "markdown",
   "metadata": {},
   "source": [
    "We have a class defined for vehicles. Create two new vehicles called car1 and car2. \n",
    "Set car1 to be a red convertible worth $60,000.00 with a name of Fer, and car2 to be a blue van named Jump worth $10,000.00."
   ]
  },
  {
   "cell_type": "code",
   "execution_count": 21,
   "metadata": {},
   "outputs": [
    {
     "name": "stdout",
     "output_type": "stream",
     "text": [
      "color of car1 fer is red and worth of car1 is $60,000.00.\n",
      "color of car2 van is blue and worth of car2 is $10,000.00.\n"
     ]
    }
   ],
   "source": [
    "class vehicles:\n",
    "    \n",
    "    def __init__(self,color,worth,name):\n",
    "        self.color=color\n",
    "        self.worth=worth\n",
    "        self.name=name\n",
    "        \n",
    "car1=vehicles(\"red\",\"$60,000.00\",\"fer\")\n",
    "print(f\"color of car1 {car1.name} is {car1.color} and worth of car1 is {car1.worth}.\")\n",
    "car2=vehicles(\"blue\",\"$10,000.00\", \"van\")\n",
    "print(f\"color of car2 {car2.name} is {car2.color} and worth of car2 is {car2.worth}.\")"
   ]
  },
  {
   "cell_type": "code",
   "execution_count": null,
   "metadata": {},
   "outputs": [],
   "source": []
  }
 ],
 "metadata": {
  "kernelspec": {
   "display_name": "Python 3",
   "language": "python",
   "name": "python3"
  },
  "language_info": {
   "codemirror_mode": {
    "name": "ipython",
    "version": 3
   },
   "file_extension": ".py",
   "mimetype": "text/x-python",
   "name": "python",
   "nbconvert_exporter": "python",
   "pygments_lexer": "ipython3",
   "version": "3.8.3"
  }
 },
 "nbformat": 4,
 "nbformat_minor": 4
}
