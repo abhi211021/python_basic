{
 "cells": [
  {
   "cell_type": "markdown",
   "metadata": {},
   "source": [
    "# Dictionaries"
   ]
  },
  {
   "cell_type": "markdown",
   "metadata": {},
   "source": [
    "A dictionary is a data type similar to arrays, but works with keys and values instead of indexes. Each value stored in a dictionary can be accessed using a key, which is any type of object (a string, a number, a list, etc.) instead of using its index to address it."
   ]
  },
  {
   "cell_type": "code",
   "execution_count": 3,
   "metadata": {},
   "outputs": [
    {
     "name": "stdout",
     "output_type": "stream",
     "text": [
      "{'Abhi': 1234, 'Anand': 1234964, 'rabi': 34, 'shristi': 9854}\n"
     ]
    }
   ],
   "source": [
    "phonebook={}\n",
    "phonebook[\"Abhi\"]=1234\n",
    "phonebook[\"Anand\"]=1234964\n",
    "phonebook[\"rabi\"]=34\n",
    "phonebook[\"shristi\"]=9854\n",
    "print(phonebook)"
   ]
  },
  {
   "cell_type": "code",
   "execution_count": 4,
   "metadata": {},
   "outputs": [
    {
     "name": "stdout",
     "output_type": "stream",
     "text": [
      "{'abhi': 'anand', 'num': 123, 'alphabet': 'abcd'}\n"
     ]
    }
   ],
   "source": [
    "phonebook={\"abhi\":\"anand\",\"num\":123,\"alphabet\":\"abcd\"}\n",
    "print(phonebook)"
   ]
  },
  {
   "cell_type": "markdown",
   "metadata": {},
   "source": [
    "# Iterating over dictionaries"
   ]
  },
  {
   "cell_type": "markdown",
   "metadata": {},
   "source": [
    "Dictionaries can be iterated over, just like a list. However, a dictionary, unlike a list, does not keep the order of the values stored in it."
   ]
  },
  {
   "cell_type": "code",
   "execution_count": 6,
   "metadata": {},
   "outputs": [
    {
     "name": "stdout",
     "output_type": "stream",
     "text": [
      "John's number is 938477566.\n",
      "Jack's number is 938377264.\n",
      "Jill's number is 947662781.\n"
     ]
    }
   ],
   "source": [
    "phonebook = {\"John\" : 938477566,\"Jack\" : 938377264,\"Jill\" : 947662781}\n",
    "\n",
    "for name,num in phonebook.items():\n",
    "    print(f\"{name}'s number is {num}.\")"
   ]
  },
  {
   "cell_type": "markdown",
   "metadata": {},
   "source": [
    "# Removing a value"
   ]
  },
  {
   "cell_type": "code",
   "execution_count": 8,
   "metadata": {},
   "outputs": [
    {
     "name": "stdout",
     "output_type": "stream",
     "text": [
      "{'Jack': 938377264, 'Jill': 947662781}\n",
      "{'Jack': 938377264}\n"
     ]
    }
   ],
   "source": [
    "phonebook = {\n",
    "   \"John\" : 938477566,\n",
    "   \"Jack\" : 938377264,\n",
    "   \"Jill\" : 947662781\n",
    "}\n",
    "del phonebook[\"John\"]\n",
    "print(phonebook)\n",
    "\n",
    "\n",
    "phonebook.pop(\"Jill\")\n",
    "print(phonebook)"
   ]
  },
  {
   "cell_type": "markdown",
   "metadata": {},
   "source": [
    "# Exercise"
   ]
  },
  {
   "cell_type": "raw",
   "metadata": {},
   "source": [
    "# Add \"Jake\" to the phonebook with the phone number 938273443, and remove Jill from the phonebook."
   ]
  },
  {
   "cell_type": "code",
   "execution_count": 11,
   "metadata": {},
   "outputs": [
    {
     "name": "stdout",
     "output_type": "stream",
     "text": [
      "jack's phone number is 9431.\n",
      "jill's phone number is 8675.\n",
      "abhi's phone number is 9430.\n",
      "prerna's phone number is 420.\n",
      "{'jack': 9431, 'jill': 8675, 'abhi': 9430, 'prerna': 420, 'Jake': 938273443}\n"
     ]
    },
    {
     "data": {
      "text/plain": [
       "8675"
      ]
     },
     "execution_count": 11,
     "metadata": {},
     "output_type": "execute_result"
    }
   ],
   "source": [
    "phonebook={\"jack\":9431,\"jill\":8675,\"abhi\":9430,\"prerna\":420}\n",
    "\n",
    "for name,num in phonebook.items():\n",
    "    print(f\"{name}'s phone number is {num}.\")\n",
    "    \n",
    "#adding Jake name and number to phonebook\n",
    "phonebook[\"Jake\"]= 938273443\n",
    "\n",
    "print(phonebook)\n",
    "\n",
    "#removing Jill from phonebook\n",
    "\n",
    "phonebook.pop(\"jill\")\n",
    "\n",
    "print(f\"Printing\")"
   ]
  },
  {
   "cell_type": "code",
   "execution_count": null,
   "metadata": {},
   "outputs": [],
   "source": []
  }
 ],
 "metadata": {
  "kernelspec": {
   "display_name": "Python 3",
   "language": "python",
   "name": "python3"
  },
  "language_info": {
   "codemirror_mode": {
    "name": "ipython",
    "version": 3
   },
   "file_extension": ".py",
   "mimetype": "text/x-python",
   "name": "python",
   "nbconvert_exporter": "python",
   "pygments_lexer": "ipython3",
   "version": "3.8.3"
  }
 },
 "nbformat": 4,
 "nbformat_minor": 4
}
